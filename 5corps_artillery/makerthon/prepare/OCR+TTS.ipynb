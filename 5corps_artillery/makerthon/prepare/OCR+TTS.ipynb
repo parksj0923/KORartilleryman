{
  "nbformat": 4,
  "nbformat_minor": 0,
  "metadata": {
    "colab": {
      "name": "OCR+TTS.ipynb",
      "provenance": [],
      "collapsed_sections": [],
      "mount_file_id": "1UfiDJljiflH_EYsk8vv6io3VHpKiWlkI",
      "authorship_tag": "ABX9TyMVmyOhZp0bSojex55y34w/",
      "include_colab_link": true
    },
    "kernelspec": {
      "name": "python3",
      "display_name": "Python 3"
    },
    "language_info": {
      "name": "python"
    }
  },
  "cells": [
    {
      "cell_type": "markdown",
      "metadata": {
        "id": "view-in-github",
        "colab_type": "text"
      },
      "source": [
        "<a href=\"https://colab.research.google.com/github/parksj0923/KORartilleryman/blob/master/5corps_artillery/makerthon/OCR%2BTTS.ipynb\" target=\"_parent\"><img src=\"https://colab.research.google.com/assets/colab-badge.svg\" alt=\"Open In Colab\"/></a>"
      ]
    },
    {
      "cell_type": "code",
      "metadata": {
        "id": "Ic8XW_2PD9E1"
      },
      "source": [
        "import pprint  #딕셔너리 이쁘게 출력할려고 쓰는거\n",
        "import json\n",
        "import base64\n",
        "import requests\n",
        "import re #한글 뽑아낼때 정규식 사용\n",
        "import os, requests, json, wave #오디오 파일 만들 때 사용\n",
        "\n",
        "\n",
        "#Naver Clova OCR API\n",
        "with open(\"./drive/MyDrive/Deep learning exercise/test image/image8.jpg\", \"rb\") as f:\n",
        "    img = base64.b64encode(f.read())\n",
        "\n",
        " # 본인의 APIGW Invoke URL로 치환\n",
        "URL = \"https://2ecb2f2b9c79470cb77f7337f747a291.apigw.ntruss.com/custom/v1/11062/29b707430fc943cd49355417e654eb3515a843d362b418100ec3a70729453661/general\"\n",
        "    \n",
        " # 본인의 Secret Key로 치환\n",
        "KEY = \"WmxoWHpja2xFSmVYcWVRblBGU3FBT0xmd2hIalVwUFQ=\"\n",
        "    \n",
        "headers = {\n",
        "    \"Content-Type\": \"application/json\",\n",
        "    \"X-OCR-SECRET\": KEY\n",
        "}\n",
        "    \n",
        "data = {\n",
        "    \"version\": \"V1\",\n",
        "    \"requestId\": \"test\", # 요청을 구분하기 위한 ID, 사용자가 정의\n",
        "    \"timestamp\": 0, # 현재 시간값\n",
        "    \"images\": [\n",
        "        {\n",
        "            \"name\": \"127777\",\n",
        "            \"format\": \"jpg\",\n",
        "            \"data\": img.decode('utf-8')\n",
        "        }\n",
        "    ]\n",
        "}\n",
        "data = json.dumps(data)\n",
        "response = requests.post(URL, data=data, headers=headers)\n",
        "res = json.loads(response.text)\n",
        "\n",
        "\n",
        "#print(res['images'][0]['fields'][0]['inferText'])\n"
      ],
      "execution_count": 76,
      "outputs": []
    },
    {
      "cell_type": "code",
      "metadata": {
        "colab": {
          "base_uri": "https://localhost:8080/"
        },
        "id": "bStT2p4QGFZI",
        "outputId": "ac958807-5979-415f-aa88-da566ff3192a"
      },
      "source": [
        "#출력을 다 문자열로 만들고 이중 한글만 뽑아내기\n",
        "name = ''\n",
        "temp = []\n",
        "for dic in res['images'][0]['fields'] :\n",
        "  #print(dic['inferText'])\n",
        "  name = name + dic['inferText']\n",
        "temp = re.compile('[가-힣]+').findall(name)\n",
        "name = ''.join(temp)\n",
        "print(name)\n",
        "#구글 드라이브에 test image5 가능->흐릿하면 안됨"
      ],
      "execution_count": 77,
      "outputs": [
        {
          "output_type": "stream",
          "name": "stdout",
          "text": [
            "\n"
          ]
        }
      ]
    },
    {
      "cell_type": "code",
      "metadata": {
        "id": "FKyyrPsuHXfu"
      },
      "source": [
        "#카카오 TTS API\n",
        "url = \"https://kakaoi-newtone-openapi.kakao.com/v1/synthesize\"\n",
        "key = '3cc9239a60f93d908dabe029c94c2213'\n",
        "headers = {\n",
        "\t\"Content-Type\": \"application/xml\",\n",
        "    \"Authorization\": \"KakaoAK \" + key,\n",
        "}\n",
        "\n",
        "talk = \"{}님, 올바른 마스크 착용 부탁드려요\".format(name).encode('utf-8').decode('latin-1')\n",
        "data = '<speak> {} </speak>'.format(talk)\n",
        "\n",
        "res = requests.post(url, headers=headers, data=data)\n",
        "f= open('temp.wav', 'wb')\n",
        "f.write(res.content)\n",
        "f.close()"
      ],
      "execution_count": 78,
      "outputs": []
    },
    {
      "cell_type": "code",
      "metadata": {
        "id": "q61gPENwJYoR"
      },
      "source": [
        "#colab환경에서 바로 오디오 출력하기\n"
      ],
      "execution_count": 79,
      "outputs": []
    },
    {
      "cell_type": "code",
      "metadata": {
        "id": "v5I6K-8uLgEq"
      },
      "source": [
        ""
      ],
      "execution_count": 79,
      "outputs": []
    }
  ]
}