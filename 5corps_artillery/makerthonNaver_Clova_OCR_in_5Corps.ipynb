{
  "nbformat": 4,
  "nbformat_minor": 0,
  "metadata": {
    "colab": {
      "name": "Naver Clova OCR in 5Corps.ipynb",
      "provenance": [],
      "authorship_tag": "ABX9TyMS+Kn4MfqYDlnJzkh7xz7P",
      "include_colab_link": true
    },
    "kernelspec": {
      "name": "python3",
      "display_name": "Python 3"
    },
    "language_info": {
      "name": "python"
    }
  },
  "cells": [
    {
      "cell_type": "markdown",
      "metadata": {
        "id": "view-in-github",
        "colab_type": "text"
      },
      "source": [
        "<a href=\"https://colab.research.google.com/github/parksj0923/KORartilleryman/blob/master/5corps_artillery/makerthonNaver_Clova_OCR_in_5Corps.ipynb\" target=\"_parent\"><img src=\"https://colab.research.google.com/assets/colab-badge.svg\" alt=\"Open In Colab\"/></a>"
      ]
    },
    {
      "cell_type": "code",
      "metadata": {
        "id": "ThnmRmloqo1T"
      },
      "source": [
        "import json\n",
        "import base64\n",
        "import requests\n",
        "\n",
        "with open(\"./127777.jpg\", \"rb\") as f:\n",
        "    img = base64.b64encode(f.read())\n",
        "\n",
        " # 본인의 APIGW Invoke URL로 치환\n",
        "URL = \"https://2ecb2f2b9c79470cb77f7337f747a291.apigw.ntruss.com/custom/v1/11062/29b707430fc943cd49355417e654eb3515a843d362b418100ec3a70729453661/general\"\n",
        "    \n",
        " # 본인의 Secret Key로 치환\n",
        "KEY = \"WmxoWHpja2xFSmVYcWVRblBGU3FBT0xmd2hIalVwUFQ=\"\n",
        "    \n",
        "headers = {\n",
        "    \"Content-Type\": \"application/json\",\n",
        "    \"X-OCR-SECRET\": KEY\n",
        "}\n",
        "    \n",
        "data = {\n",
        "    \"version\": \"V1\",\n",
        "    \"requestId\": \"test\", # 요청을 구분하기 위한 ID, 사용자가 정의\n",
        "    \"timestamp\": 0, # 현재 시간값\n",
        "    \"images\": [\n",
        "        {\n",
        "            \"name\": \"127777\",\n",
        "            \"format\": \"jpg\",\n",
        "            \"data\": img.decode('utf-8')\n",
        "        }\n",
        "    ]\n",
        "}\n",
        "data = json.dumps(data)\n",
        "response = requests.post(URL, data=data, headers=headers)\n",
        "res = json.loads(response.text)"
      ],
      "execution_count": 2,
      "outputs": []
    },
    {
      "cell_type": "code",
      "metadata": {
        "colab": {
          "base_uri": "https://localhost:8080/"
        },
        "id": "paIItQUVr0Ry",
        "outputId": "7e9eb618-3e88-495b-d8a4-1943039b9ab4"
      },
      "source": [
        "print(res['images'][0]['fields'][0]['inferText'])"
      ],
      "execution_count": 13,
      "outputs": [
        {
          "output_type": "stream",
          "name": "stdout",
          "text": [
            "이 준 승\n"
          ]
        }
      ]
    },
    {
      "cell_type": "code",
      "metadata": {
        "id": "DI9UxBlasCDj"
      },
      "source": [
        ""
      ],
      "execution_count": null,
      "outputs": []
    }
  ]
}